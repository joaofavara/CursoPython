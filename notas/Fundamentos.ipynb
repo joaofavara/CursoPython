{
 "cells": [
  {
   "cell_type": "markdown",
   "metadata": {},
   "source": [
    "# Primeiros Exemplos"
   ]
  },
  {
   "cell_type": "code",
   "execution_count": 168,
   "metadata": {},
   "outputs": [
    {
     "name": "stdout",
     "output_type": "stream",
     "text": [
      "Primeiro programa\n",
      "Help on built-in function print in module builtins:\n",
      "\n",
      "print(...)\n",
      "    print(value, ..., sep=' ', end='\\n', file=sys.stdout, flush=False)\n",
      "    \n",
      "    Prints the values to a stream, or to sys.stdout by default.\n",
      "    Optional keyword arguments:\n",
      "    file:  a file-like object (stream); defaults to the current sys.stdout.\n",
      "    sep:   string inserted between values, default a space.\n",
      "    end:   string appended after the last value, default a newline.\n",
      "    flush: whether to forcibly flush the stream.\n",
      "\n"
     ]
    }
   ],
   "source": [
    "print('Primeiro programa')\n",
    "1 \\\n",
    "    + 2 \n",
    "\n",
    "help(print)"
   ]
  },
  {
   "cell_type": "code",
   "execution_count": 167,
   "metadata": {},
   "outputs": [
    {
     "data": {
      "text/plain": [
       "15"
      ]
     },
     "execution_count": 167,
     "metadata": {},
     "output_type": "execute_result"
    }
   ],
   "source": [
    "1 + 2 + 3\n",
    "4 + 5 + 6"
   ]
  },
  {
   "cell_type": "code",
   "execution_count": null,
   "metadata": {},
   "outputs": [],
   "source": [
    "print(1 + 2 + 3)\n",
    "print(4 + 5 + 6)"
   ]
  },
  {
   "cell_type": "markdown",
   "metadata": {},
   "source": [
    "# Tipos Básicos"
   ]
  },
  {
   "cell_type": "code",
   "execution_count": null,
   "metadata": {},
   "outputs": [],
   "source": [
    "print(True)\n",
    "print(False)\n",
    "print(1.2 + 1)\n",
    "print('Aqui ru falo na minha lingua!')\n",
    "print(\"Tbm funciona\")\n",
    "print('Você eh ' + 3*'mto ' + 'legal')\n",
    "print([1, 2, 3])\n",
    "print({'nome': 'Joao', 'idade': '23'})\n",
    "print(None)"
   ]
  },
  {
   "cell_type": "markdown",
   "metadata": {},
   "source": [
    "# Variaveis "
   ]
  },
  {
   "cell_type": "code",
   "execution_count": null,
   "metadata": {},
   "outputs": [],
   "source": [
    "a = 10\n",
    "b = 2.5\n",
    "\n",
    "print(a+b)\n",
    "\n",
    "a = 'Batata'\n",
    "print(a)\n",
    "a\n",
    "b\n",
    "\n",
    "# print(a+b)"
   ]
  },
  {
   "cell_type": "markdown",
   "metadata": {},
   "source": [
    "# Comentarios"
   ]
  },
  {
   "cell_type": "code",
   "execution_count": null,
   "metadata": {},
   "outputs": [],
   "source": [
    "# Minhas Variaveis\n",
    "\n",
    "salario = 11\n",
    "despesas = 12\n",
    "\n",
    "'''\n",
    "A ideia eh comentar \n",
    "mtas linhas de codigo\n",
    "aspas simple ou duplas\n",
    "'''\n",
    "\n",
    "print(salario - despesas)\n",
    "\n",
    "#print('Fim')\n",
    "print('Fim de verdade')# comentario aqui tb vale!"
   ]
  },
  {
   "cell_type": "markdown",
   "metadata": {},
   "source": [
    "# Operadores Aritmeticos"
   ]
  },
  {
   "cell_type": "code",
   "execution_count": null,
   "metadata": {},
   "outputs": [],
   "source": [
    "print(1 + 2)\n",
    "print(1 - 2)\n",
    "print(3 * 2)\n",
    "print(1 / 3)\n",
    "print(1 // 3)\n",
    "print(2 ** 8)\n",
    "print(10 % 3)\n",
    "\n",
    "a = 12\n",
    "b = a\n",
    "print(a + b)"
   ]
  },
  {
   "cell_type": "markdown",
   "metadata": {},
   "source": [
    "## Desafios "
   ]
  },
  {
   "cell_type": "code",
   "execution_count": null,
   "metadata": {},
   "outputs": [],
   "source": [
    "# Minhas Variaveis\n",
    "salario = 1500\n",
    "despesas = 520\n",
    "comprometimentoSalario = (despesas/salario)*100\n",
    "print(round(comprometimentoSalario, 2))"
   ]
  },
  {
   "cell_type": "markdown",
   "metadata": {},
   "source": [
    "# Operadores Relacionais"
   ]
  },
  {
   "cell_type": "code",
   "execution_count": null,
   "metadata": {},
   "outputs": [],
   "source": [
    "3 > 4\n",
    "4 >= 3\n",
    "1 < 2\n",
    "3 <= 1\n",
    "3 != 2\n",
    "3 == 3\n",
    "2 == '2'"
   ]
  },
  {
   "cell_type": "markdown",
   "metadata": {},
   "source": [
    "# Operadores de Atribuição"
   ]
  },
  {
   "cell_type": "code",
   "execution_count": null,
   "metadata": {},
   "outputs": [],
   "source": [
    "a = 3\n",
    "a = a + 7\n",
    "print(a)\n",
    "\n",
    "a += 5\n",
    "print(a)\n",
    "\n",
    "a -= 3\n",
    "print(a)\n",
    "\n",
    "a *= 2\n",
    "print(a)\n",
    "\n",
    "a /= 4\n",
    "print(a)\n",
    "\n",
    "a %= 4\n",
    "print(a)\n",
    "\n",
    "a **= 8\n",
    "print(a)\n",
    "\n",
    "a //= 256\n",
    "print(a)"
   ]
  },
  {
   "cell_type": "markdown",
   "metadata": {},
   "source": [
    "# Operadores Logicos"
   ]
  },
  {
   "cell_type": "code",
   "execution_count": null,
   "metadata": {},
   "outputs": [],
   "source": [
    "True or False\n",
    "7 != 3 and 2 > 3\n",
    "\n",
    "# Tabela Versade XOR\n",
    "True != True\n",
    "True != False\n",
    "False != True\n",
    "False != False\n",
    "\n",
    "# Operador de Negação (unario)\n",
    "not True\n",
    "not False\n",
    "\n",
    "not 0 # True\n",
    "not 1 # False\n",
    "not not -1 # True\n",
    "\n",
    "#Cuidado! São operadores bit-a-bit, não gera um valor numerico\n",
    "True & True\n",
    "False | False\n",
    "True ^ False\n",
    "\n",
    "#um pouco de realidade \n",
    "salario = 4000\n",
    "saldo = 1000\n",
    "despezas = 3900\n",
    "\n",
    "saldo_positivo = saldo > 0 \n",
    "despezas_controladas = salario - despezas >= 0.2 * salario\n",
    "\n",
    "meta = saldo_positivo and despezas_controladas\n",
    "meta"
   ]
  },
  {
   "cell_type": "markdown",
   "metadata": {},
   "source": [
    "## Desafios "
   ]
  },
  {
   "cell_type": "code",
   "execution_count": null,
   "metadata": {},
   "outputs": [],
   "source": [
    "# Desafio Operadores Logicos\n",
    "# Os Trabalhos\n",
    "\n",
    "trabalho_terca = False\n",
    "trabalho_quinta = False\n",
    "\n",
    "\"\"\"\n",
    "Confirmando os 2: TV 50` + Sorvete\n",
    "Confirmando apenas um: TV 32` + Sorvete\n",
    "Confirmando nenhum: Fica em casa\n",
    "\"\"\"\n",
    "\n",
    "tv_50 = trabalho_terca and trabalho_quinta\n",
    "tv_32 = trabalho_terca or trabalho_quinta\n",
    "sorvete = trabalho_terca != trabalho_quinta # XOR\n",
    "saudavel = not sorvete\n",
    "\n",
    "print('Tv50 = {} Tv32 = {}  Sorvete = {}  Saudavel = {}'\n",
    "     .format(tv_50, tv_32, sorvete, saudavel))"
   ]
  },
  {
   "cell_type": "markdown",
   "metadata": {},
   "source": [
    "# Operadores Unarios"
   ]
  },
  {
   "cell_type": "code",
   "execution_count": null,
   "metadata": {},
   "outputs": [],
   "source": [
    "a = 3\n",
    "# a++\n",
    "a += 1\n",
    "\n",
    "not 0\n",
    "not 1\n",
    "not -2\n",
    "not False\n",
    "not not True"
   ]
  },
  {
   "cell_type": "markdown",
   "metadata": {},
   "source": [
    "# Operadores Ternarios"
   ]
  },
  {
   "cell_type": "code",
   "execution_count": null,
   "metadata": {},
   "outputs": [],
   "source": [
    "estaChovendo = False\n",
    "\n",
    "print('Hoje minha roupas estao ' + ('secas', 'molhadas')[estaChovendo])\n",
    "print('Hoje minha roupas estao ' + ('molhadas' if estaChovendo else 'secas'))"
   ]
  },
  {
   "cell_type": "markdown",
   "metadata": {},
   "source": [
    "# Mais Operadores "
   ]
  },
  {
   "cell_type": "code",
   "execution_count": null,
   "metadata": {},
   "outputs": [],
   "source": [
    "# Operadores de Membro \n",
    "lista = [1, 2, 3, 'Ana', 'Carla']\n",
    "2 in lista # True\n",
    "\"Ana\" not in lista # False\n",
    "\n",
    "# Operadores de Identidade\n",
    "x = 3\n",
    "y = x\n",
    "z = 3\n",
    "x is y # True\n",
    "y is z # True\n",
    "x is not z # False\n",
    "\n",
    "lista_a = [1, 2, 3]\n",
    "lista_b = lista_a\n",
    "lista_c = [1, 2, 3]\n",
    "\n",
    "lista_a is lista_b # True\n",
    "lista_b is lista_c # False\n",
    "lista_a is not lista_c # False\n"
   ]
  },
  {
   "cell_type": "markdown",
   "metadata": {},
   "source": [
    "# Builtins"
   ]
  },
  {
   "cell_type": "code",
   "execution_count": 1,
   "metadata": {},
   "outputs": [
    {
     "name": "stdout",
     "output_type": "stream",
     "text": [
      "3.3333333333333335\n"
     ]
    },
    {
     "data": {
      "text/plain": [
       "['In',\n",
       " 'Out',\n",
       " '_',\n",
       " '__',\n",
       " '___',\n",
       " '__builtin__',\n",
       " '__builtins__',\n",
       " '__doc__',\n",
       " '__loader__',\n",
       " '__name__',\n",
       " '__package__',\n",
       " '__spec__',\n",
       " '_dh',\n",
       " '_i',\n",
       " '_i1',\n",
       " '_ih',\n",
       " '_ii',\n",
       " '_iii',\n",
       " '_oh',\n",
       " 'exit',\n",
       " 'get_ipython',\n",
       " 'nome',\n",
       " 'quit']"
      ]
     },
     "execution_count": 1,
     "metadata": {},
     "output_type": "execute_result"
    }
   ],
   "source": [
    "# type\n",
    "type(1)\n",
    "__builtins__.type('Fala galera!') # str\n",
    "__builtins__.print(10/3) # 3.3333333333333335\n",
    "\n",
    "nome = 'Joao Pedro'\n",
    "type(nome) #str\n",
    "len(nome) # 10\n",
    "__builtins__.len(nome) # 10\n",
    "\n",
    "dir()"
   ]
  },
  {
   "cell_type": "markdown",
   "metadata": {},
   "source": [
    "# Conversão de Tipo"
   ]
  },
  {
   "cell_type": "code",
   "execution_count": 2,
   "metadata": {},
   "outputs": [
    {
     "name": "stdout",
     "output_type": "stream",
     "text": [
      "<class 'int'>\n",
      "<class 'str'>\n",
      "5\n",
      "23\n"
     ]
    }
   ],
   "source": [
    "2 + 3\n",
    "'3' + '3'\n",
    "# 2 + '3'\n",
    "# print(2 + '3')\n",
    "\n",
    "a = 2\n",
    "b = '3'\n",
    "\n",
    "print(type(a))\n",
    "print(type(b))\n",
    "\n",
    "print(a + int(b))\n",
    "print(str(a) + b)"
   ]
  },
  {
   "cell_type": "markdown",
   "metadata": {},
   "source": [
    "# Coersão Automática"
   ]
  },
  {
   "cell_type": "code",
   "execution_count": 14,
   "metadata": {},
   "outputs": [
    {
     "data": {
      "text/plain": [
       "float"
      ]
     },
     "execution_count": 14,
     "metadata": {},
     "output_type": "execute_result"
    }
   ],
   "source": [
    "10 / 2\n",
    "type(10 / 2) # float\n",
    "10 / 3 # 3.3333333333333335\n",
    "10 // 3 # 3\n",
    "type(10 // 3) # int\n",
    "10 // 3.3 # 3.0\n",
    "type(10 // 3.3) # float\n",
    "10 / 2.5 # 4.0\n",
    "2 + True # 3\n",
    "2 + False # 2\n",
    "type(1 + 2) # int\n",
    "type(1 + 2.5) # float"
   ]
  },
  {
   "cell_type": "markdown",
   "metadata": {},
   "source": [
    "# Números"
   ]
  },
  {
   "cell_type": "code",
   "execution_count": 28,
   "metadata": {},
   "outputs": [
    {
     "data": {
      "text/plain": [
       "2"
      ]
     },
     "execution_count": 28,
     "metadata": {},
     "output_type": "execute_result"
    }
   ],
   "source": [
    "dir(int)\n",
    "dir(float)\n",
    "\n",
    "a = 5\n",
    "b = 2.5\n",
    "a / b \n",
    "a + b\n",
    "a * b\n",
    "\n",
    "type(a) #int\n",
    "type(b) #float\n",
    "type(a - b) #float\n",
    "\n",
    "b.is_integer() #False\n",
    "5.0.is_integer() #True\n",
    "\n",
    "dir(int)\n",
    "int.__add__(2, 3) #5\n",
    "2 + 3 #5\n",
    "\n",
    "(-2).__abs__() #2\n",
    "abs(-2) #2\n"
   ]
  },
  {
   "cell_type": "code",
   "execution_count": 42,
   "metadata": {},
   "outputs": [
    {
     "data": {
      "text/plain": [
       "['BasicContext',\n",
       " 'Clamped',\n",
       " 'Context',\n",
       " 'ConversionSyntax',\n",
       " 'Decimal',\n",
       " 'DecimalException',\n",
       " 'DecimalTuple',\n",
       " 'DefaultContext',\n",
       " 'DivisionByZero',\n",
       " 'DivisionImpossible',\n",
       " 'DivisionUndefined',\n",
       " 'ExtendedContext',\n",
       " 'FloatOperation',\n",
       " 'HAVE_THREADS',\n",
       " 'Inexact',\n",
       " 'InvalidContext',\n",
       " 'InvalidOperation',\n",
       " 'MAX_EMAX',\n",
       " 'MAX_PREC',\n",
       " 'MIN_EMIN',\n",
       " 'MIN_ETINY',\n",
       " 'Overflow',\n",
       " 'ROUND_05UP',\n",
       " 'ROUND_CEILING',\n",
       " 'ROUND_DOWN',\n",
       " 'ROUND_FLOOR',\n",
       " 'ROUND_HALF_DOWN',\n",
       " 'ROUND_HALF_EVEN',\n",
       " 'ROUND_HALF_UP',\n",
       " 'ROUND_UP',\n",
       " 'Rounded',\n",
       " 'Subnormal',\n",
       " 'Underflow',\n",
       " '__builtins__',\n",
       " '__cached__',\n",
       " '__doc__',\n",
       " '__file__',\n",
       " '__libmpdec_version__',\n",
       " '__loader__',\n",
       " '__name__',\n",
       " '__package__',\n",
       " '__spec__',\n",
       " '__version__',\n",
       " 'getcontext',\n",
       " 'localcontext',\n",
       " 'setcontext']"
      ]
     },
     "execution_count": 42,
     "metadata": {},
     "output_type": "execute_result"
    }
   ],
   "source": [
    "1.1 + 2.2 #3.3000000000000003\n",
    "\n",
    "from decimal import Decimal, getcontext\n",
    "Decimal(1) / Decimal(7) #Decimal('0.1428571428571428571428571429')\n",
    "\n",
    "getcontext().prec = 4\n",
    "Decimal(1) / Decimal(7) #Decimal('0.1429')\n",
    "Decimal.max(Decimal(1), Decimal(7)) #Decimal('7')\n",
    "dir(Decimal)\n",
    "\n",
    "1.1 + 2.2\n",
    "getcontext().prec = 10\n",
    "Decimal(1.1) + Decimal(2.2) #Decimal('3.300000000')\n",
    "\n",
    "import decimal\n",
    "dir(decimal)"
   ]
  },
  {
   "cell_type": "markdown",
   "metadata": {},
   "source": [
    "# Tipo String"
   ]
  },
  {
   "cell_type": "code",
   "execution_count": 51,
   "metadata": {},
   "outputs": [
    {
     "name": "stdout",
     "output_type": "stream",
     "text": [
      "Texto com multiplas\n",
      "\t...linhas\n",
      "Texto com multiplas \n",
      "...linhas\n"
     ]
    },
    {
     "data": {
      "text/plain": [
       "'Tambem eh possivel\\n... com 3 aspas simples'"
      ]
     },
     "execution_count": 51,
     "metadata": {},
     "output_type": "execute_result"
    }
   ],
   "source": [
    "dir(str)\n",
    "nome = 'Joao Pedro'\n",
    "nome #'Joao Pedro'\n",
    "nome[0] #'J'\n",
    "# nome[0] = 'B' -> Da errado\n",
    "\n",
    "\"JP D'Agua\" == 'JP D\\'Agua' #True\n",
    "\"Teste \\\" funciona!\" #'Teste \" funciona!'\n",
    "texto = 'Teste entre apostrofe pode ter \"aspas\"'\n",
    "texto #'Teste entre apostrofe pode ter \"aspas\"'\n",
    "\n",
    "doc = \"\"\"Texto com multiplas \n",
    "...linhas\"\"\"\n",
    "doc #'Texto com multiplas \\n...linhas'\n",
    "print('Texto com multiplas\\n\\t...linhas')\n",
    "# Texto com multiplas\n",
    "# \t...linhas\n",
    "print(doc)\n",
    "# Texto com multiplas \n",
    "# ...linhas\n",
    "\n",
    "doc2 = '''Tambem eh possivel\n",
    "... com 3 aspas simples'''\n",
    "doc2 #'Tambem eh possivel\\n... com 3 aspas simples'"
   ]
  },
  {
   "cell_type": "code",
   "execution_count": 66,
   "metadata": {},
   "outputs": [
    {
     "data": {
      "text/plain": [
       "'08642'"
      ]
     },
     "execution_count": 66,
     "metadata": {},
     "output_type": "execute_result"
    }
   ],
   "source": [
    "nome = 'Ana Paula'\n",
    "nome[0] # 'A'\n",
    "nome[6] # 'u'\n",
    "nome[-3] # 'u'\n",
    "nome[4:] # 'Paula'\n",
    "nome[-5:] # 'Paula'\n",
    "nome[:3] # 'Ana'\n",
    "nome[::-1] #'aluaP anA'\n",
    "\n",
    "numeros = '1234567890'\n",
    "numeros #'1234567890'\n",
    "numeros[::] # '1234567890'\n",
    "numeros[::2] # '13579'\n",
    "numeros[1::2] # '24680'\n",
    "numeros[::-1] # '0987654321'\n",
    "numeros[::-2] # '08642'"
   ]
  },
  {
   "cell_type": "code",
   "execution_count": 75,
   "metadata": {},
   "outputs": [
    {
     "data": {
      "text/plain": [
       "['PYTHON ', 'H UMA LINGUAG', 'M ', 'XC', 'L', 'NT', '']"
      ]
     },
     "execution_count": 75,
     "metadata": {},
     "output_type": "execute_result"
    }
   ],
   "source": [
    "frase = \"Python eh uma linguagem excelente\"\n",
    "'py' in frase #False\n",
    "'ing' in frase #True\n",
    "len(frase) #33\n",
    "frase.lower() #'python eh uma linguagem excelente'\n",
    "frase = frase.upper()\n",
    "frase #'PYTHON EH UMA LINGUAGEM EXCELENTE'\n",
    "\n",
    "frase.split() #['PYTHON', 'EH', 'UMA', 'LINGUAGEM', 'EXCELENTE']\n",
    "frase.split('E') #['PYTHON ', 'H UMA LINGUAG', 'M ', 'XC', 'L', 'NT', '']"
   ]
  },
  {
   "cell_type": "markdown",
   "metadata": {},
   "source": [
    "# Lista"
   ]
  },
  {
   "cell_type": "code",
   "execution_count": 87,
   "metadata": {},
   "outputs": [
    {
     "data": {
      "text/plain": [
       "['Bia', 'Ana', 1]"
      ]
     },
     "execution_count": 87,
     "metadata": {},
     "output_type": "execute_result"
    }
   ],
   "source": [
    "lista = []\n",
    "type(lista) # lista\n",
    "dir(lista)\n",
    "len(lista) # 0\n",
    "lista.append(1)\n",
    "lista.append(5)\n",
    "lista # [1, 5]\n",
    "len(lista) # 2\n",
    "\n",
    "nova_lista = [1, 5, 'Ana', 'Bia']\n",
    "nova_lista #[1, 5, 'Ana', 'Bia']\n",
    "nova_lista.remove(5)\n",
    "nova_lista #[1, 'Ana', 'Bia']\n",
    "nova_lista.reverse()\n",
    "nova_lista #['Bia', 'Ana', 1]\n"
   ]
  },
  {
   "cell_type": "code",
   "execution_count": 96,
   "metadata": {},
   "outputs": [
    {
     "data": {
      "text/plain": [
       "1"
      ]
     },
     "execution_count": 96,
     "metadata": {},
     "output_type": "execute_result"
    }
   ],
   "source": [
    "lista = [1, 2, 'Rebeca', 'Guilherme', 3.1415]\n",
    "lista.index('Guilherme') #3\n",
    "# lista.index(42) -> error\n",
    "lista[2] # Rebeca\n",
    "1 in lista # True\n",
    "'Rebeca' in lista # True\n",
    "'Pedro' not in lista # True\n",
    "lista[0] #1\n",
    "lista[4] #3.1415\n",
    "#lista[5] -> error\n",
    "lista[-1] #3.1415\n",
    "lista[-5] #1"
   ]
  },
  {
   "cell_type": "code",
   "execution_count": 108,
   "metadata": {},
   "outputs": [
    {
     "data": {
      "text/plain": [
       "['Ana']"
      ]
     },
     "execution_count": 108,
     "metadata": {},
     "output_type": "execute_result"
    }
   ],
   "source": [
    "lista = ['Ana', 'Lia', 'Rui', 'Paulo', 'Dani']\n",
    "lista[1:3] #['Lia', 'Rui']\n",
    "lista[1:-1] #['Lia', 'Rui', 'Paulo']\n",
    "lista[1:] #['Lia', 'Rui', 'Paulo', 'Dani']\n",
    "lista[:-1] #['Ana', 'Lia', 'Rui', 'Paulo']\n",
    "lista[:] #['Ana', 'Lia', 'Rui', 'Paulo', 'Dani']\n",
    "lista[::] #['Ana', 'Lia', 'Rui', 'Paulo', 'Dani']\n",
    "lista[::2] #['Ana', 'Rui', 'Dani']\n",
    "lista[::-1] #['Dani', 'Paulo', 'Rui', 'Lia', 'Ana']\n",
    "lista.remove('Lia')\n",
    "lista #['Ana', 'Rui', 'Paulo', 'Dani']\n",
    "del lista[1:]\n",
    "lista #['Ana']"
   ]
  },
  {
   "cell_type": "markdown",
   "metadata": {},
   "source": [
    "# Tupla "
   ]
  },
  {
   "cell_type": "code",
   "execution_count": 123,
   "metadata": {},
   "outputs": [
    {
     "data": {
      "text/plain": [
       "4"
      ]
     },
     "execution_count": 123,
     "metadata": {},
     "output_type": "execute_result"
    }
   ],
   "source": [
    "tupla = tuple()\n",
    "tupla = ()\n",
    "type(tupla) #tuple\n",
    "dir(tuple)\n",
    "tupla = ('um')\n",
    "type(tupla) #str\n",
    "tupla = ('um',)\n",
    "type(tupla) #tuple\n",
    "tupla[0] #'um'\n",
    "#tupla[0] = 'novo'\n",
    "cores = ('verde', 'amarelo', 'azul', 'branco')\n",
    "cores[0] #'verde'\n",
    "cores[-1] #'branco'\n",
    "cores[1:] #('amarelo', 'azul', 'branco')\n",
    "\n",
    "cores.index('amarelo') #1\n",
    "cores.count('azul') #1\n",
    "len(cores) #4"
   ]
  },
  {
   "cell_type": "markdown",
   "metadata": {},
   "source": [
    "# Dicinario"
   ]
  },
  {
   "cell_type": "code",
   "execution_count": 135,
   "metadata": {},
   "outputs": [
    {
     "data": {
      "text/plain": [
       "[]"
      ]
     },
     "execution_count": 135,
     "metadata": {},
     "output_type": "execute_result"
    }
   ],
   "source": [
    "pessoa = {'nome': 'Pedro', 'idade': 23, 'cursos': ['vue', 'node', 'js']}\n",
    "\n",
    "len(pessoa)\n",
    "pessoa\n",
    "pessoa['nome']\n",
    "pessoa['idade']\n",
    "pessoa['cursos']\n",
    "pessoa['cursos'][1]\n",
    "pessoa.keys()\n",
    "pessoa.values()\n",
    "pessoa.items()\n",
    "pessoa.get('idade')\n",
    "pessoa.get('tags')\n",
    "pessoa.get('tags', [])"
   ]
  },
  {
   "cell_type": "code",
   "execution_count": 147,
   "metadata": {},
   "outputs": [
    {
     "data": {
      "text/plain": [
       "{}"
      ]
     },
     "execution_count": 147,
     "metadata": {},
     "output_type": "execute_result"
    }
   ],
   "source": [
    "pessoa = {'nome': 'Pedro', 'idade': 23, 'cursos': ['vue', 'node', 'js']}\n",
    "pessoa['idade'] = 32\n",
    "pessoa['cursos'].append('python')\n",
    "pessoa #{'nome': 'Pedro', 'idade': 32, 'cursos': ['vue', 'node', 'js', 'python']}\n",
    "\n",
    "pessoa.pop('idade')\n",
    "pessoa #{'nome': 'Pedro', 'cursos': ['vue', 'node', 'js', 'python']}\n",
    "\n",
    "pessoa.update({'idade': 23, 'sexo': 'M'})\n",
    "pessoa #{'nome': 'Pedro','cursos': ['vue', 'node', 'js', 'python'],'idade': 23,'sexo': 'M'}\n",
    "del pessoa['cursos']\n",
    "pessoa #{'nome': 'Pedro', 'idade': 23, 'sexo': 'M'}\n",
    "pessoa.clear()\n",
    "pessoa #{}"
   ]
  },
  {
   "cell_type": "markdown",
   "metadata": {},
   "source": [
    "# Conjunto"
   ]
  },
  {
   "cell_type": "code",
   "execution_count": 160,
   "metadata": {},
   "outputs": [
    {
     "name": "stdout",
     "output_type": "stream",
     "text": [
      "{'3', 'r', 'd', 'o', 'c'}\n",
      "True True\n"
     ]
    },
    {
     "data": {
      "text/plain": [
       "{1, 3}"
      ]
     },
     "execution_count": 160,
     "metadata": {},
     "output_type": "execute_result"
    }
   ],
   "source": [
    "a = {1, 2, 3}\n",
    "type(a) #set\n",
    "a = set('cod3r')\n",
    "print(a)\n",
    "\n",
    "print('3' in a, 4 not in a) #True True\n",
    "\n",
    "# operacoes\n",
    "c1 = {1, 2}\n",
    "c2 = {2, 3}\n",
    "\n",
    "c1.union(c2) #{1, 2, 3}\n",
    "c1.intersection(c2) #{2}\n",
    "c1.update(c2)\n",
    "c1 #{1, 2, 3}\n",
    "\n",
    "c2 <= c1 #True\n",
    "c1 >= c2 #True\n",
    "\n",
    "{1, 2, 3} - {2} #{1, 3}\n",
    "c1 - c2 #{1}\n",
    "c1 -= {2}\n",
    "c1 #{1, 3}"
   ]
  },
  {
   "cell_type": "markdown",
   "metadata": {},
   "source": [
    "# Interpolação "
   ]
  },
  {
   "cell_type": "code",
   "execution_count": 166,
   "metadata": {},
   "outputs": [
    {
     "name": "stdout",
     "output_type": "stream",
     "text": [
      "Nome: Ana Idade: 23\n",
      "Nome: Ana Idade: 23\n",
      "Nome: Ana Idade: 23\n",
      "Nome: Ana Idade: 23\n"
     ]
    }
   ],
   "source": [
    "from string import Template\n",
    "\n",
    "nome, idade = 'Ana', 23\n",
    "\n",
    "print('Nome: %s Idade: %d' % (nome, idade))\n",
    "print('Nome: {0} Idade: {1}'.format(nome,idade))\n",
    "print(f'Nome: {nome} Idade: {idade}')\n",
    "\n",
    "s = Template('Nome: $nome Idade: $idade')\n",
    "print(s.substitute(nome=nome, idade=idade))"
   ]
  }
 ],
 "metadata": {
  "kernelspec": {
   "display_name": "Python 3",
   "language": "python",
   "name": "python3"
  },
  "language_info": {
   "codemirror_mode": {
    "name": "ipython",
    "version": 3
   },
   "file_extension": ".py",
   "mimetype": "text/x-python",
   "name": "python",
   "nbconvert_exporter": "python",
   "pygments_lexer": "ipython3",
   "version": "3.7.6"
  }
 },
 "nbformat": 4,
 "nbformat_minor": 4
}
